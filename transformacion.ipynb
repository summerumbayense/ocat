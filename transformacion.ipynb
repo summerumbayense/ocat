{
 "cells": [
  {
   "cell_type": "code",
   "execution_count": 19,
   "metadata": {},
   "outputs": [],
   "source": [
    "using CSV\n",
    "using DataFrames"
   ]
  },
  {
   "cell_type": "code",
   "execution_count": 20,
   "metadata": {},
   "outputs": [
    {
     "data": {
      "text/plain": [
       "valores (generic function with 1 method)"
      ]
     },
     "execution_count": 20,
     "metadata": {},
     "output_type": "execute_result"
    }
   ],
   "source": [
    "function valores(datos::DataFrame)\n",
    "    valoresTodos = Array{Float64,1}[]\n",
    "    for columna = names(datos)\n",
    "        push!(valoresTodos, unique(datos[columna]))\n",
    "    end\n",
    "    valoresTodos\n",
    "end"
   ]
  },
  {
   "cell_type": "code",
   "execution_count": 21,
   "metadata": {},
   "outputs": [
    {
     "data": {
      "text/plain": [
       "booleanizar (generic function with 1 method)"
      ]
     },
     "execution_count": 21,
     "metadata": {},
     "output_type": "execute_result"
    }
   ],
   "source": [
    "function booleanizar(valores::Array{Array{Any,1},1})\n",
    "    nuevoData = Matrix{Int64}(undef, 1, size(datos,2))\n",
    "    for n = size(datos,1)\n",
    "        fila = Int64[]\n",
    "        for m = size(datos, 2)\n",
    "            for k = length(valores[m])\n",
    "            datos[n,:][columna] > valores[m][k] ? push!(fila, 1) : push!(fila, 0)\n",
    "            end\n",
    "        end\n",
    "        vcat(nuevoData, fila')\n",
    "    end\n",
    "    nuevoData\n",
    "end"
   ]
  },
  {
   "cell_type": "code",
   "execution_count": null,
   "metadata": {},
   "outputs": [],
   "source": []
  }
 ],
 "metadata": {
  "kernelspec": {
   "display_name": "Julia 1.1.0",
   "language": "julia",
   "name": "julia-1.1"
  },
  "language_info": {
   "file_extension": ".jl",
   "mimetype": "application/julia",
   "name": "julia",
   "version": "1.1.0"
  }
 },
 "nbformat": 4,
 "nbformat_minor": 2
}
